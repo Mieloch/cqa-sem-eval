{
 "cells": [
  {
   "cell_type": "code",
   "execution_count": 39,
   "metadata": {
    "collapsed": true
   },
   "outputs": [],
   "source": [
    "import gensim\n",
    "import re\n",
    "from bs4 import BeautifulSoup\n",
    "import csv\n",
    "import numpy as np\n",
    "import pandas as pd\n",
    "from sklearn.utils import shuffle\n",
    "import math\n",
    "import matplotlib.pyplot as plt"
   ]
  },
  {
   "cell_type": "code",
   "execution_count": 35,
   "metadata": {},
   "outputs": [],
   "source": [
    "# PODZIELENIE NA DWA ZBIORY\n",
    "\n",
    "result = []\n",
    "\n",
    "input_files = ['dev.csv', 'train_part1.csv', 'train_part2.csv'];\n",
    "\n",
    "for file in input_files:\n",
    "    with open(file, 'r') as csvfile:\n",
    "        csvreader = csv.reader(csvfile, delimiter=',', quotechar='\"')\n",
    "        next(csvreader, None)\n",
    "\n",
    "        for row in csvreader:\n",
    "            result.append(row)\n",
    "        \n",
    "result = shuffle(result, random_state=123)\n",
    "train_set = result[:math.floor(len(result)*0.8)]\n",
    "validation_set = result[math.floor(len(result)*0.8):]\n",
    "\n",
    "with open('train_set_distribution_diagram.csv', 'w') as csvfile:\n",
    "    writer = csv.writer(csvfile, delimiter=',', quotechar='|', quoting=csv.QUOTE_MINIMAL)\n",
    "    writer.writerow(['id', 'question1_id', 'question2_id', 'question1', 'question2', 'relevance'])\n",
    "    \n",
    "    for elem in train_set:\n",
    "        writer.writerow(elem)\n",
    "    \n",
    "with open('validation_set_distribution_diagram.csv', 'w') as csvfile:\n",
    "    writer = csv.writer(csvfile, delimiter=',', quotechar='|', quoting=csv.QUOTE_MINIMAL)\n",
    "    writer.writerow(['id', 'question1_id', 'question2_id', 'question1', 'question2', 'relevance'])\n",
    "    \n",
    "    for elem in validation_set:\n",
    "        writer.writerow(elem)"
   ]
  },
  {
   "cell_type": "code",
   "execution_count": 41,
   "metadata": {},
   "outputs": [],
   "source": [
    "def plot_pie(data_set_file, title):\n",
    "    data_set = pd.read_csv(data_set_file)\n",
    "    relevance_good = len(data_set[data_set['relevance'] == 1])\n",
    "    relevance_bad = len(data_set[data_set['relevance'] == 0])\n",
    "\n",
    "    fig, ax = plt.subplots(figsize=(6, 6))\n",
    "    ax.pie([relevance_good, relevance_bad], labels=['Good', 'Bad'], autopct='%1.3f%%',\n",
    "         startangle=90)\n",
    "    ax.axis('equal')  # Equal aspect ratio ensures that pie is drawn as a circle.\n",
    "    fig.suptitle(title)\n",
    "    plt.savefig(\"plots/{}.png\".format(title))\n",
    "\n",
    "plot_pie(\"train_set_distribution_diagram.csv\", \"Train set class distribution\")\n",
    "plot_pie(\"validation_set_distribution_diagram.csv\", \"Validation set class distribution\")"
   ]
  },
  {
   "cell_type": "code",
   "execution_count": 51,
   "metadata": {},
   "outputs": [],
   "source": [
    "# ZAPISANIE WSZYSTKIEGO RAZEM\n",
    "\n",
    "result = []\n",
    "\n",
    "input_files = ['dev.csv', 'train_part1.csv', 'train_part2.csv'];\n",
    "\n",
    "for file in input_files:\n",
    "    with open(file, 'r') as csvfile:\n",
    "        csvreader = csv.reader(csvfile, delimiter=',', quotechar='\"')\n",
    "        next(csvreader, None)\n",
    "\n",
    "        for row in csvreader:\n",
    "            result.append(row)\n",
    "            \n",
    "with open('train_and_validation.csv', 'w') as csvfile:\n",
    "    writer = csv.writer(csvfile, delimiter=',', quotechar='|', quoting=csv.QUOTE_MINIMAL)\n",
    "    writer.writerow(['id', 'question1_id', 'question2_id', 'question1', 'question2', 'relevance'])\n",
    "\n",
    "    for i, elem in enumerate(result):\n",
    "        writer.writerow([i] + elem[1:])"
   ]
  }
 ],
 "metadata": {
  "kernelspec": {
   "display_name": "Python 3",
   "language": "python",
   "name": "python3"
  },
  "language_info": {
   "codemirror_mode": {
    "name": "ipython",
    "version": 3
   },
   "file_extension": ".py",
   "mimetype": "text/x-python",
   "name": "python",
   "nbconvert_exporter": "python",
   "pygments_lexer": "ipython3",
   "version": "3.6.3"
  }
 },
 "nbformat": 4,
 "nbformat_minor": 2
}
