{
 "cells": [
  {
   "cell_type": "code",
   "execution_count": 1,
   "metadata": {},
   "outputs": [],
   "source": [
    "import pandas as pd"
   ]
  },
  {
   "cell_type": "code",
   "execution_count": 6,
   "metadata": {},
   "outputs": [],
   "source": [
    "org_train_df = pd.read_csv('/Volumes/DataDrive/merged/en-train.csv')\n",
    "org_test_df = pd.read_csv('/Volumes/DataDrive/merged/en-test.csv')"
   ]
  },
  {
   "cell_type": "code",
   "execution_count": 2,
   "metadata": {},
   "outputs": [],
   "source": [
    "def get_data_distribution(df, percent=False):\n",
    "    perfect_match = df[df.relevance == 'PerfectMatch']\n",
    "    \n",
    "    related = df[df.relevance == 'Related']\n",
    "    irrelevant = df[df.relevance == 'Irrelevant']\n",
    "    \n",
    "    total_size = len(df)\n",
    "    \n",
    "    result = {'perfect_match': len(perfect_match) / total_size,\n",
    "              'related': len(related) / total_size,\n",
    "              'irrelevant': len(irrelevant) / total_size}\n",
    "    \n",
    "    if percent:\n",
    "        for key, value in result.items():\n",
    "            result[key] = result[key] * 100\n",
    "            \n",
    "    return result"
   ]
  },
  {
   "cell_type": "code",
   "execution_count": 11,
   "metadata": {},
   "outputs": [
    {
     "data": {
      "text/plain": [
       "{'irrelevant': 99.23299502929768,\n",
       " 'perfect_match': 0.046856960673967336,\n",
       " 'related': 0.7201480100283557}"
      ]
     },
     "execution_count": 11,
     "metadata": {},
     "output_type": "execute_result"
    }
   ],
   "source": [
    "org_train_data_dist = get_data_distribution(org_train_df, percent=True)\n",
    "org_train_data_dist"
   ]
  },
  {
   "cell_type": "code",
   "execution_count": 12,
   "metadata": {},
   "outputs": [
    {
     "data": {
      "text/plain": [
       "{'irrelevant': 99.2246816252274,\n",
       " 'perfect_match': 0.048211036992116436,\n",
       " 'related': 0.7271073377804731}"
      ]
     },
     "execution_count": 12,
     "metadata": {},
     "output_type": "execute_result"
    }
   ],
   "source": [
    "org_test_data_dist = get_data_distribution(org_test_df, percent=True)\n",
    "org_test_data_dist"
   ]
  },
  {
   "cell_type": "code",
   "execution_count": 3,
   "metadata": {},
   "outputs": [],
   "source": [
    "mod_train_df = pd.read_csv('/Volumes/DataDrive/merged/en-train-extended-2.csv')\n",
    "mod_test_df = pd.read_csv('/Volumes/DataDrive/merged/en-test-extended-2.csv')"
   ]
  },
  {
   "cell_type": "code",
   "execution_count": 4,
   "metadata": {},
   "outputs": [
    {
     "data": {
      "text/plain": [
       "{'irrelevant': 50.32393856677738,\n",
       " 'perfect_match': 25.16196928338869,\n",
       " 'related': 24.514092149833917}"
      ]
     },
     "execution_count": 4,
     "metadata": {},
     "output_type": "execute_result"
    }
   ],
   "source": [
    "mod_train_data_dist = get_data_distribution(mod_train_df, percent=True)\n",
    "mod_train_data_dist"
   ]
  },
  {
   "cell_type": "code",
   "execution_count": 7,
   "metadata": {},
   "outputs": [
    {
     "name": "stdout",
     "output_type": "stream",
     "text": [
      "Org train size = 1035065\n",
      "Mod train size = 30407\n"
     ]
    }
   ],
   "source": [
    "print('Org train size = {}'.format(len(org_train_df)))\n",
    "print('Mod train size = {}'.format(len(mod_train_df)))"
   ]
  },
  {
   "cell_type": "code",
   "execution_count": null,
   "metadata": {},
   "outputs": [],
   "source": []
  }
 ],
 "metadata": {
  "kernelspec": {
   "display_name": "Python [conda env:eng]",
   "language": "python",
   "name": "conda-env-eng-py"
  },
  "language_info": {
   "codemirror_mode": {
    "name": "ipython",
    "version": 3
   },
   "file_extension": ".py",
   "mimetype": "text/x-python",
   "name": "python",
   "nbconvert_exporter": "python",
   "pygments_lexer": "ipython3",
   "version": "3.6.2"
  }
 },
 "nbformat": 4,
 "nbformat_minor": 2
}
