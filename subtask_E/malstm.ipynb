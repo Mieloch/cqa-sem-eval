{
 "cells": [
  {
   "cell_type": "code",
   "execution_count": 3,
   "metadata": {},
   "outputs": [
    {
     "name": "stderr",
     "output_type": "stream",
     "text": [
      "Using TensorFlow backend.\n",
      "/Users/tomek/anaconda3/envs/eng/lib/python3.6/importlib/_bootstrap.py:205: RuntimeWarning: compiletime version 3.5 of module 'tensorflow.python.framework.fast_tensor_util' does not match runtime version 3.6\n",
      "  return f(*args, **kwds)\n"
     ]
    }
   ],
   "source": [
    "from time import time\n",
    "import pandas as pd\n",
    "import numpy as np\n",
    "from gensim.models import KeyedVectors\n",
    "import re\n",
    "from nltk.corpus import stopwords\n",
    "from sklearn.model_selection import train_test_split\n",
    "import matplotlib.pyplot as plt\n",
    "# import seaborn as sns\n",
    "\n",
    "import itertools\n",
    "import datetime\n",
    "\n",
    "from keras.preprocessing.sequence import pad_sequences\n",
    "from keras.models import Model\n",
    "from keras.layers import Input, Embedding, LSTM, Merge, Lambda\n",
    "import keras.backend as K\n",
    "from keras.optimizers import Adadelta\n",
    "from keras.callbacks import ModelCheckpoint"
   ]
  },
  {
   "cell_type": "markdown",
   "metadata": {},
   "source": [
    "# Data preprocessing"
   ]
  },
  {
   "cell_type": "markdown",
   "metadata": {},
   "source": [
    "## Load data from prepared .csv files"
   ]
  },
  {
   "cell_type": "code",
   "execution_count": 4,
   "metadata": {},
   "outputs": [],
   "source": [
    "EMBEDDING_FILE = '/Volumes/DataDrive/models/GoogleNews-vectors-negative300.bin'\n",
    "# TRAIN_CSV = '/Volumes/DataDrive/stripped/english-train.csv'\n",
    "# TEST_CSV = '/Volumes/DataDrive/stripped/english-devel.csv'\n",
    "\n",
    "TRAIN_CSV = '/Volumes/DataDrive/stripped/english-train-xsmall.csv'\n",
    "TEST_CSV = '/Volumes/DataDrive/stripped/english-devel-xsmall.csv'"
   ]
  },
  {
   "cell_type": "code",
   "execution_count": 5,
   "metadata": {},
   "outputs": [
    {
     "name": "stdout",
     "output_type": "stream",
     "text": [
      "Loading word2vec model...\n",
      "Done.\n",
      "Building vocabulary...\n"
     ]
    },
    {
     "name": "stderr",
     "output_type": "stream",
     "text": [
      "/Users/tomek/anaconda3/envs/eng/lib/python3.6/site-packages/ipykernel/__main__.py:80: FutureWarning: set_value is deprecated and will be removed in a future release. Please use .at[] or .iat[] accessors instead\n"
     ]
    },
    {
     "name": "stdout",
     "output_type": "stream",
     "text": [
      "Done.\n",
      "Building embedding matrix...\n",
      "Done.\n"
     ]
    }
   ],
   "source": [
    "# Load training and test set\n",
    "train_df = pd.read_csv(TRAIN_CSV)\n",
    "test_df = pd.read_csv(TEST_CSV)\n",
    "\n",
    "stops = set(stopwords.words('english'))\n",
    "\n",
    "def text_to_word_list(text):\n",
    "    ''' Pre process and convert texts to a list of words '''\n",
    "    text = str(text)\n",
    "    text = text.lower()\n",
    "\n",
    "    # Clean the text\n",
    "    text = re.sub(r\"[^A-Za-z0-9^,!.\\/'+-=]\", \" \", text)\n",
    "    text = re.sub(r\"what's\", \"what is \", text)\n",
    "    text = re.sub(r\"\\'s\", \" \", text)\n",
    "    text = re.sub(r\"\\'ve\", \" have \", text)\n",
    "    text = re.sub(r\"can't\", \"cannot \", text)\n",
    "    text = re.sub(r\"n't\", \" not \", text)\n",
    "    text = re.sub(r\"i'm\", \"i am \", text)\n",
    "    text = re.sub(r\"\\'re\", \" are \", text)\n",
    "    text = re.sub(r\"\\'d\", \" would \", text)\n",
    "    text = re.sub(r\"\\'ll\", \" will \", text)\n",
    "    text = re.sub(r\",\", \" \", text)\n",
    "    text = re.sub(r\"\\.\", \" \", text)\n",
    "    text = re.sub(r\"!\", \" ! \", text)\n",
    "    text = re.sub(r\"\\/\", \" \", text)\n",
    "    text = re.sub(r\"\\^\", \" ^ \", text)\n",
    "    text = re.sub(r\"\\+\", \" + \", text)\n",
    "    text = re.sub(r\"\\-\", \" - \", text)\n",
    "    text = re.sub(r\"\\=\", \" = \", text)\n",
    "    text = re.sub(r\"'\", \" \", text)\n",
    "    text = re.sub(r\"(\\d+)(k)\", r\"\\g<1>000\", text)\n",
    "    text = re.sub(r\":\", \" : \", text)\n",
    "    text = re.sub(r\" e g \", \" eg \", text)\n",
    "    text = re.sub(r\" b g \", \" bg \", text)\n",
    "    text = re.sub(r\" u s \", \" american \", text)\n",
    "    text = re.sub(r\"\\0s\", \"0\", text)\n",
    "    text = re.sub(r\" 9 11 \", \"911\", text)\n",
    "    text = re.sub(r\"e - mail\", \"email\", text)\n",
    "    text = re.sub(r\"j k\", \"jk\", text)\n",
    "    text = re.sub(r\"\\s{2,}\", \" \", text)\n",
    "\n",
    "    text = text.split()\n",
    "\n",
    "    return text\n",
    "\n",
    "# Prepare embedding\n",
    "vocabulary = dict()\n",
    "inverse_vocabulary = ['<unk>']  # '<unk>' will never be used, it is only a placeholder for the [0, 0, ....0] embedding\n",
    "\n",
    "print(\"Loading word2vec model...\")\n",
    "word2vec = KeyedVectors.load_word2vec_format(EMBEDDING_FILE, binary=True)\n",
    "print(\"Done.\")\n",
    "\n",
    "questions_cols = ['original_question_text', 'related_question_text']\n",
    "\n",
    "print(\"Building vocabulary...\")\n",
    "# Iterate over the questions only of both training and test datasets\n",
    "for dataset in [train_df, test_df]:\n",
    "    for index, row in dataset.iterrows():\n",
    "\n",
    "        # Iterate through the text of both questions of the row\n",
    "        for question in questions_cols:\n",
    "\n",
    "            q2n = []  # q2n -> question numbers representation\n",
    "            for word in text_to_word_list(row[question]):\n",
    "\n",
    "                # Check for unwanted words\n",
    "                if word in stops and word not in word2vec.vocab:\n",
    "                    continue\n",
    "\n",
    "                if word not in vocabulary:\n",
    "                    vocabulary[word] = len(inverse_vocabulary)\n",
    "                    q2n.append(len(inverse_vocabulary))\n",
    "                    inverse_vocabulary.append(word)\n",
    "                else:\n",
    "                    q2n.append(vocabulary[word])\n",
    "\n",
    "            # Replace questions as word to question as number representation\n",
    "            dataset.set_value(index, question, q2n)\n",
    "            \n",
    "print(\"Done.\")\n",
    "            \n",
    "embedding_dim = 300\n",
    "embeddings = 1 * np.random.randn(len(vocabulary) + 1, embedding_dim)  # This will be the embedding matrix\n",
    "embeddings[0] = 0  # So that the padding will be ignored\n",
    "\n",
    "print(\"Building embedding matrix...\")\n",
    "# Build the embedding matrix\n",
    "for word, index in vocabulary.items():\n",
    "    if word in word2vec.vocab:\n",
    "        embeddings[index] = word2vec.word_vec(word)\n",
    "\n",
    "del word2vec\n",
    "print(\"Done.\")"
   ]
  },
  {
   "cell_type": "markdown",
   "metadata": {},
   "source": [
    "## Split dataset into train-dev-test sets"
   ]
  },
  {
   "cell_type": "code",
   "execution_count": 46,
   "metadata": {},
   "outputs": [
    {
     "name": "stdout",
     "output_type": "stream",
     "text": [
      "Max sequence length = 910\n",
      "0      [1, 2, 3, 4, 5, 6, 7, 8, 9, 10, 11, 7, 8, 12, ...\n",
      "1      [1, 2, 3, 4, 5, 6, 7, 8, 9, 10, 11, 7, 8, 12, ...\n",
      "2      [1, 2, 3, 4, 5, 6, 7, 8, 9, 10, 11, 7, 8, 12, ...\n",
      "3      [1, 2, 3, 4, 5, 6, 7, 8, 9, 10, 11, 7, 8, 12, ...\n",
      "4      [1, 2, 3, 4, 5, 6, 7, 8, 9, 10, 11, 7, 8, 12, ...\n",
      "5      [1, 2, 3, 4, 5, 6, 7, 8, 9, 10, 11, 7, 8, 12, ...\n",
      "6      [1, 2, 3, 4, 5, 6, 7, 8, 9, 10, 11, 7, 8, 12, ...\n",
      "7      [1, 2, 3, 4, 5, 6, 7, 8, 9, 10, 11, 7, 8, 12, ...\n",
      "8      [1, 2, 3, 4, 5, 6, 7, 8, 9, 10, 11, 7, 8, 12, ...\n",
      "9      [1, 2, 3, 4, 5, 6, 7, 8, 9, 10, 11, 7, 8, 12, ...\n",
      "10     [1, 2, 3, 4, 5, 6, 7, 8, 9, 10, 11, 7, 8, 12, ...\n",
      "11     [1, 2, 3, 4, 5, 6, 7, 8, 9, 10, 11, 7, 8, 12, ...\n",
      "12     [1, 2, 3, 4, 5, 6, 7, 8, 9, 10, 11, 7, 8, 12, ...\n",
      "13     [1, 2, 3, 4, 5, 6, 7, 8, 9, 10, 11, 7, 8, 12, ...\n",
      "14     [1, 2, 3, 4, 5, 6, 7, 8, 9, 10, 11, 7, 8, 12, ...\n",
      "15     [1, 2, 3, 4, 5, 6, 7, 8, 9, 10, 11, 7, 8, 12, ...\n",
      "16     [1, 2, 3, 4, 5, 6, 7, 8, 9, 10, 11, 7, 8, 12, ...\n",
      "17     [1, 2, 3, 4, 5, 6, 7, 8, 9, 10, 11, 7, 8, 12, ...\n",
      "18     [1, 2, 3, 4, 5, 6, 7, 8, 9, 10, 11, 7, 8, 12, ...\n",
      "19     [1, 2, 3, 4, 5, 6, 7, 8, 9, 10, 11, 7, 8, 12, ...\n",
      "20     [1, 2, 3, 4, 5, 6, 7, 8, 9, 10, 11, 7, 8, 12, ...\n",
      "21     [1, 2, 3, 4, 5, 6, 7, 8, 9, 10, 11, 7, 8, 12, ...\n",
      "22     [1, 2, 3, 4, 5, 6, 7, 8, 9, 10, 11, 7, 8, 12, ...\n",
      "23     [1, 2, 3, 4, 5, 6, 7, 8, 9, 10, 11, 7, 8, 12, ...\n",
      "24     [1, 2, 3, 4, 5, 6, 7, 8, 9, 10, 11, 7, 8, 12, ...\n",
      "25     [1, 2, 3, 4, 5, 6, 7, 8, 9, 10, 11, 7, 8, 12, ...\n",
      "26     [1, 2, 3, 4, 5, 6, 7, 8, 9, 10, 11, 7, 8, 12, ...\n",
      "27     [1, 2, 3, 4, 5, 6, 7, 8, 9, 10, 11, 7, 8, 12, ...\n",
      "28     [1, 2, 3, 4, 5, 6, 7, 8, 9, 10, 11, 7, 8, 12, ...\n",
      "29     [1, 2, 3, 4, 5, 6, 7, 8, 9, 10, 11, 7, 8, 12, ...\n",
      "                             ...                        \n",
      "570    [3, 80, 82, 85, 10, 1852, 71, 878, 101, 5748, ...\n",
      "571    [3, 80, 82, 85, 10, 1852, 71, 878, 101, 5748, ...\n",
      "572    [3, 80, 82, 85, 10, 1852, 71, 878, 101, 5748, ...\n",
      "573    [3, 80, 82, 85, 10, 1852, 71, 878, 101, 5748, ...\n",
      "574    [3, 80, 82, 85, 10, 1852, 71, 878, 101, 5748, ...\n",
      "575    [3, 80, 82, 85, 10, 1852, 71, 878, 101, 5748, ...\n",
      "576    [3, 80, 82, 85, 10, 1852, 71, 878, 101, 5748, ...\n",
      "577    [3, 80, 82, 85, 10, 1852, 71, 878, 101, 5748, ...\n",
      "578    [3, 80, 82, 85, 10, 1852, 71, 878, 101, 5748, ...\n",
      "579    [3, 80, 82, 85, 10, 1852, 71, 878, 101, 5748, ...\n",
      "580    [3, 80, 82, 85, 10, 1852, 71, 878, 101, 5748, ...\n",
      "581    [3, 80, 82, 85, 10, 1852, 71, 878, 101, 5748, ...\n",
      "582    [3, 80, 82, 85, 10, 1852, 71, 878, 101, 5748, ...\n",
      "583    [3, 80, 82, 85, 10, 1852, 71, 878, 101, 5748, ...\n",
      "584    [3, 80, 82, 85, 10, 1852, 71, 878, 101, 5748, ...\n",
      "585    [3, 80, 82, 85, 10, 1852, 71, 878, 101, 5748, ...\n",
      "586    [3, 80, 82, 85, 10, 1852, 71, 878, 101, 5748, ...\n",
      "587    [3, 80, 82, 85, 10, 1852, 71, 878, 101, 5748, ...\n",
      "588    [3, 80, 82, 85, 10, 1852, 71, 878, 101, 5748, ...\n",
      "589    [3, 80, 82, 85, 10, 1852, 71, 878, 101, 5748, ...\n",
      "590    [3, 80, 82, 85, 10, 1852, 71, 878, 101, 5748, ...\n",
      "591    [3, 80, 82, 85, 10, 1852, 71, 878, 101, 5748, ...\n",
      "592    [3, 80, 82, 85, 10, 1852, 71, 878, 101, 5748, ...\n",
      "593    [3, 80, 82, 85, 10, 1852, 71, 878, 101, 5748, ...\n",
      "594    [3, 80, 82, 85, 10, 1852, 71, 878, 101, 5748, ...\n",
      "595    [3, 80, 82, 85, 10, 1852, 71, 878, 101, 5748, ...\n",
      "596    [3, 80, 82, 85, 10, 1852, 71, 878, 101, 5748, ...\n",
      "597    [3, 80, 82, 85, 10, 1852, 71, 878, 101, 5748, ...\n",
      "598    [3, 80, 82, 85, 10, 1852, 71, 878, 101, 5748, ...\n",
      "599    [3, 80, 82, 85, 10, 1852, 71, 878, 101, 5748, ...\n",
      "Name: original_question_text, Length: 600, dtype: object\n",
      "0    Irrelevant\n",
      "1    Irrelevant\n",
      "Name: relevance, dtype: object\n",
      "0    0\n",
      "1    0\n",
      "Name: relevance, dtype: object\n"
     ]
    }
   ],
   "source": [
    "max_seq_length = max(train_df.original_question_text.map(lambda x: len(x)).max(),\n",
    "                     train_df.related_question_text.map(lambda x: len(x)).max(),\n",
    "                     test_df.original_question_text.map(lambda x: len(x)).max(),\n",
    "                     test_df.related_question_text.map(lambda x: len(x)).max())\n",
    "\n",
    "print(\"Max sequence length = {}\".format(max_seq_length))\n",
    "\n",
    "# Split to train validation\n",
    "validation_size = 100\n",
    "training_size = len(train_df) - validation_size\n",
    "\n",
    "X = train_df[questions_cols]\n",
    "\n",
    "Y = train_df['relevance']\n",
    "print(Y.head(n=2))\n",
    "\n",
    "Y = Y.map(lambda x: '1' if x == 'PerfectMatch' else 0)\n",
    "print(Y.head(n=2))\n",
    "\n",
    "X_train, X_validation, Y_train, Y_validation = train_test_split(X, Y, test_size=validation_size)\n",
    "Y_test = test_df['relevance'].map(lambda x: 1 if x == 'PerfectMatch' else 0)\n",
    "\n",
    "# Split to dicts\n",
    "X_train = {'left': X_train.original_question_text, 'right': X_train.related_question_text}\n",
    "X_validation = {'left': X_validation.original_question_text, 'right': X_validation.related_question_text}\n",
    "X_test = {'left': test_df.original_question_text, 'right': test_df.related_question_text}\n",
    "\n",
    "# Convert labels to their numpy representations\n",
    "Y_train = Y_train.values\n",
    "Y_validation = Y_validation.values\n",
    "\n",
    "# Zero padding\n",
    "for dataset, side in itertools.product([X_train, X_validation, X_test], ['left', 'right']):\n",
    "    dataset[side] = pad_sequences(dataset[side], maxlen=max_seq_length)\n",
    "\n",
    "# Make sure everything is ok\n",
    "assert X_train['left'].shape == X_train['right'].shape\n",
    "assert len(X_train['left']) == len(Y_train)"
   ]
  },
  {
   "cell_type": "markdown",
   "metadata": {},
   "source": [
    "# Model"
   ]
  },
  {
   "cell_type": "code",
   "execution_count": 9,
   "metadata": {},
   "outputs": [],
   "source": [
    "n_hidden = 50\n",
    "gradient_clipping_norm = 1.25\n",
    "batch_size = 64\n",
    "n_epoch = 20\n",
    "\n",
    "\n",
    "def _my_out_shape(shapes):\n",
    "    return (shapes[0][0], 1);\n",
    "\n",
    "def _exponent_neg_manhattan_distance(lay):\n",
    "    '''Overriden exponent manhattan distance function'''\n",
    "    return K.exp(-K.sum(K.abs(lay[0]-lay[1]), axis=1, keepdims=True))\n",
    "\n",
    "def exponent_neg_manhattan_distance(left, right):\n",
    "    ''' Helper function for the similarity estimate of the LSTMs outputs'''\n",
    "    return K.exp(-K.sum(K.abs(left-right), axis=1, keepdims=True))\n",
    "\n",
    "# The visible layer\n",
    "left_input = Input(shape=(max_seq_length,), dtype='int32')\n",
    "right_input = Input(shape=(max_seq_length,), dtype='int32')\n",
    "\n",
    "embedding_layer = Embedding(len(embeddings), embedding_dim, weights=[embeddings], input_length=max_seq_length, trainable=False)\n",
    "\n",
    "# Embedded version of the inputs\n",
    "encoded_left = embedding_layer(left_input)\n",
    "encoded_right = embedding_layer(right_input)\n",
    "\n",
    "# Since this is a siamese network, both sides share the same LSTM\n",
    "shared_lstm = LSTM(n_hidden)\n",
    "\n",
    "left_output = shared_lstm(encoded_left)\n",
    "right_output = shared_lstm(encoded_right)\n",
    "\n",
    "malstm_distance = Lambda(_exponent_neg_manhattan_distance, output_shape=_my_out_shape)([left_output, right_output])\n",
    "# Calculates the distance as defined by the MaLSTM model\n",
    "# malstm_distance = Merge(mode=lambda x: exponent_neg_manhattan_distance(x[0], x[1]), output_shape=lambda x: (x[0][0], 1))([left_output, right_output])\n",
    "\n",
    "# Pack it all up into a model\n",
    "malstm = Model([left_input, right_input], [malstm_distance])\n",
    "\n",
    "# Adadelta optimizer, with gradient clipping by norm\n",
    "optimizer = Adadelta(clipnorm=gradient_clipping_norm)\n",
    "\n",
    "malstm.compile(loss='mean_squared_error', optimizer=optimizer, metrics=['accuracy'])"
   ]
  },
  {
   "cell_type": "markdown",
   "metadata": {},
   "source": [
    "# Training"
   ]
  },
  {
   "cell_type": "code",
   "execution_count": 10,
   "metadata": {},
   "outputs": [
    {
     "name": "stdout",
     "output_type": "stream",
     "text": [
      "Train on 500 samples, validate on 100 samples\n",
      "Epoch 1/10\n",
      "500/500 [==============================] - 24s 49ms/step - loss: 0.0062 - acc: 0.9960 - val_loss: 0.0023 - val_acc: 1.0000\n",
      "Epoch 2/10\n",
      "500/500 [==============================] - 24s 49ms/step - loss: 0.0057 - acc: 0.9960 - val_loss: 0.0020 - val_acc: 1.0000\n",
      "Epoch 3/10\n",
      "500/500 [==============================] - 23s 46ms/step - loss: 0.0054 - acc: 0.9960 - val_loss: 0.0018 - val_acc: 1.0000\n",
      "Epoch 4/10\n",
      "500/500 [==============================] - 23s 46ms/step - loss: 0.0050 - acc: 0.9960 - val_loss: 0.0017 - val_acc: 1.0000\n",
      "Epoch 5/10\n",
      "500/500 [==============================] - 24s 48ms/step - loss: 0.0048 - acc: 0.9960 - val_loss: 0.0016 - val_acc: 1.0000\n",
      "Epoch 6/10\n",
      "500/500 [==============================] - 22s 45ms/step - loss: 0.0045 - acc: 0.9960 - val_loss: 0.0015 - val_acc: 1.0000\n",
      "Epoch 7/10\n",
      "500/500 [==============================] - 23s 46ms/step - loss: 0.0043 - acc: 0.9960 - val_loss: 0.0014 - val_acc: 1.0000\n",
      "Epoch 8/10\n",
      "500/500 [==============================] - 21s 43ms/step - loss: 0.0041 - acc: 0.9960 - val_loss: 0.0013 - val_acc: 1.0000\n",
      "Epoch 9/10\n",
      "500/500 [==============================] - 20s 40ms/step - loss: 0.0039 - acc: 0.9960 - val_loss: 0.0012 - val_acc: 1.0000\n",
      "Epoch 10/10\n",
      "500/500 [==============================] - 20s 40ms/step - loss: 0.0037 - acc: 0.9960 - val_loss: 0.0012 - val_acc: 1.0000\n",
      "Training time finished.\n",
      "20 epochs in 0:03:46.470283\n"
     ]
    }
   ],
   "source": [
    "# Start training\n",
    "training_start_time = time()\n",
    "\n",
    "malstm_trained = malstm.fit([X_train['left'], X_train['right']], Y_train, batch_size=batch_size, epochs=10,\n",
    "                            validation_data=([X_validation['left'], X_validation['right']], Y_validation))\n",
    "\n",
    "print(\"Training time finished.\\n{} epochs in {}\".format(n_epoch, datetime.timedelta(seconds=time()-training_start_time)))"
   ]
  },
  {
   "cell_type": "markdown",
   "metadata": {},
   "source": [
    "# Data vis"
   ]
  },
  {
   "cell_type": "code",
   "execution_count": 12,
   "metadata": {},
   "outputs": [
    {
     "data": {
      "image/png": "[encoded data removed]",
      "text/plain": [
       "<matplotlib.figure.Figure at 0x12397b4e0>"
      ]
     },
     "metadata": {},
     "output_type": "display_data"
    },
    {
     "data": {
      "image/png": "[encoded data removed]",
      "text/plain": [
       "<matplotlib.figure.Figure at 0x12394f0f0>"
      ]
     },
     "metadata": {},
     "output_type": "display_data"
    }
   ],
   "source": [
    "# Plot accuracy\n",
    "plt.plot(malstm_trained.history['acc'])\n",
    "plt.plot(malstm_trained.history['val_acc'])\n",
    "plt.title('Model Accuracy')\n",
    "plt.ylabel('Accuracy')\n",
    "plt.xlabel('Epoch')\n",
    "plt.legend(['Train', 'Validation'], loc='upper left')\n",
    "plt.show()\n",
    "\n",
    "# Plot loss\n",
    "plt.plot(malstm_trained.history['loss'])\n",
    "plt.plot(malstm_trained.history['val_loss'])\n",
    "plt.title('Model Loss')\n",
    "plt.ylabel('Loss')\n",
    "plt.xlabel('Epoch')\n",
    "plt.legend(['Train', 'Validation'], loc='upper right')\n",
    "plt.show()"
   ]
  },
  {
   "cell_type": "code",
   "execution_count": 35,
   "metadata": {},
   "outputs": [
    {
     "name": "stdout",
     "output_type": "stream",
     "text": [
      "250/250 [==============================] - 4s 15ms/step\n"
     ]
    },
    {
     "data": {
      "text/plain": [
       "[0.0033510473184287549, 1.0]"
      ]
     },
     "execution_count": 35,
     "metadata": {},
     "output_type": "execute_result"
    }
   ],
   "source": [
    "test_input = [X_test['left'], X_test['right']]\n",
    "malstm.evaluate(test_input, Y_test)"
   ]
  },
  {
   "cell_type": "code",
   "execution_count": 24,
   "metadata": {},
   "outputs": [
    {
     "name": "stdout",
     "output_type": "stream",
     "text": [
      "(250,)\n",
      "(250,)\n",
      "(250,)\n"
     ]
    }
   ],
   "source": [
    "print(X_test['left'].shape)\n",
    "print(X_test['right'].shape)\n",
    "print(Y_test.shape)"
   ]
  },
  {
   "cell_type": "code",
   "execution_count": 36,
   "metadata": {},
   "outputs": [],
   "source": [
    "word2vec = KeyedVectors.load_word2vec_format(EMBEDDING_FILE, binary=True)"
   ]
  },
  {
   "cell_type": "code",
   "execution_count": 101,
   "metadata": {},
   "outputs": [],
   "source": [
    "def parse_sentence(sentence, vec_len=max_seq_length):\n",
    "    word_list = text_to_word_list(sentence)\n",
    "    q2n = []\n",
    "    for word in word_list:\n",
    "        # Check for unwanted words\n",
    "        if word in stops or word not in vocabulary:\n",
    "            continue\n",
    "\n",
    "        q2n.append(vocabulary[word])\n",
    "\n",
    "    padded = pad_sequences([q2n], maxlen=vec_len)[0]\n",
    "    return padded\n",
    "    \n",
    "    \n",
    "def predict(model, left_sentence, right_sentence, threshold=0.4, binary=False):\n",
    "    left_vec = parse_sentence(left_sentence)\n",
    "    right_vec = parse_sentence(right_sentence)\n",
    "\n",
    "    model_input = [np.array([left_vec]), np.array([right_vec])]\n",
    "    prediction = model.predict(model_input)[0][0]\n",
    "    \n",
    "    if binary:\n",
    "        return prediction > threshold\n",
    "    \n",
    "    return prediction"
   ]
  },
  {
   "cell_type": "code",
   "execution_count": 107,
   "metadata": {},
   "outputs": [
    {
     "data": {
      "text/plain": [
       "0.077183016"
      ]
     },
     "execution_count": 107,
     "metadata": {},
     "output_type": "execute_result"
    }
   ],
   "source": [
    "left_sentence = \"I believe that to infinitive as a subject can be replaced by a gerund form, which is why     To get up early is good.   always has the same meaning as     Getting up early is good.   But a colleague of mine tells me this isn't always the case. I did not have a chance to have him elaborate on that. He cited the following sentence:     Neglecting others means ignoring    and only said that because of 'ignoring', you cannot use 'to neglect' instead of 'neglecting'.   Is he right If so, why\"\n",
    "right_sentence = \"Is it correct to say \\\"Would you mind to do something\\\". I've seen this usage in a few places, but it doesn't sound right to me. I would guess that it's proper to use \\\"Would you mind doing something\\\" instead.  Yet there are other verbs we could substitute here that make it sound correct with \\\"to\\\". For example, \\\"Would you like to do something\\\" and \\\"Would you care to do something\\\" Could someone explain why \\\"mind to\\\" doesn't sound correct in this context, while \\\"like to\\\" and \\\"care to\\\" sound exactly right\"\n",
    "\n",
    "predict(malstm, left_sentence, right_sentence)"
   ]
  },
  {
   "cell_type": "code",
   "execution_count": null,
   "metadata": {},
   "outputs": [],
   "source": []
  },
  {
   "cell_type": "code",
   "execution_count": null,
   "metadata": {},
   "outputs": [],
   "source": []
  }
 ],
 "metadata": {
  "kernelspec": {
   "display_name": "Python [default]",
   "language": "python",
   "name": "python3"
  },
  "language_info": {
   "codemirror_mode": {
    "name": "ipython",
    "version": 3
   },
   "file_extension": ".py",
   "mimetype": "text/x-python",
   "name": "python",
   "nbconvert_exporter": "python",
   "pygments_lexer": "ipython3",
   "version": "3.6.2"
  }
 },
 "nbformat": 4,
 "nbformat_minor": 2
}
