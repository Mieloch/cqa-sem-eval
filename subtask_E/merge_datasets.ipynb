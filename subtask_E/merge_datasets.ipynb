{
 "cells": [
  {
   "cell_type": "code",
   "execution_count": 1,
   "metadata": {},
   "outputs": [],
   "source": [
    "import pandas as pd"
   ]
  },
  {
   "cell_type": "code",
   "execution_count": 2,
   "metadata": {},
   "outputs": [],
   "source": [
    "TRAIN_DATA_CSV = '/Volumes/DataDrive/stripped/english-train.csv'\n",
    "TRAIN_STATS_CSV = '/Volumes/DataDrive/stats/en_train_stats.csv'\n",
    "\n",
    "TEST_DATA_CSV = '/Volumes/DataDrive/stripped/english-devel.csv'\n",
    "TEST_STATS_CSV = '/Volumes/DataDrive/stats/en_test_stats.csv'"
   ]
  },
  {
   "cell_type": "code",
   "execution_count": 36,
   "metadata": {},
   "outputs": [],
   "source": [
    "def merge_datasets(data_df, stats_df, save_to):\n",
    "    stats_df = stats_df.drop('question_id', axis=1)\n",
    "    stats_df = stats_df.drop('category', axis=1)\n",
    "    stats_df = stats_df.drop('tags', axis=1)\n",
    "    stats_df = stats_df.drop('relevance', axis=1)\n",
    "    \n",
    "    merged_df = pd.merge(data_df, stats_df, left_index=True, right_index=True, how='inner', suffixes=('', '_y'))\n",
    "    merged_df = merged_df.drop('related_question_id_y', axis=1)\n",
    "    \n",
    "    merged_df.to_csv(save_to, index=False)"
   ]
  },
  {
   "cell_type": "code",
   "execution_count": 37,
   "metadata": {},
   "outputs": [],
   "source": [
    "test_data_df = pd.read_csv(TEST_DATA_CSV)\n",
    "test_stats_df = pd.read_csv(TEST_STATS_CSV)\n",
    "\n",
    "merge_datasets(test_data_df, test_stats_df, save_to='/Volumes/DataDrive/merged/en-test.csv')"
   ]
  },
  {
   "cell_type": "code",
   "execution_count": 38,
   "metadata": {},
   "outputs": [],
   "source": [
    "train_data_df = pd.read_csv(TRAIN_DATA_CSV)\n",
    "train_stats_df = pd.read_csv(TRAIN_STATS_CSV)\n",
    "\n",
    "merge_datasets(train_data_df, train_stats_df, save_to='/Volumes/DataDrive/merged/en-train.csv')"
   ]
  },
  {
   "cell_type": "code",
   "execution_count": null,
   "metadata": {},
   "outputs": [],
   "source": []
  }
 ],
 "metadata": {
  "kernelspec": {
   "display_name": "Python [conda env:eng]",
   "language": "python",
   "name": "conda-env-eng-py"
  },
  "language_info": {
   "codemirror_mode": {
    "name": "ipython",
    "version": 3
   },
   "file_extension": ".py",
   "mimetype": "text/x-python",
   "name": "python",
   "nbconvert_exporter": "python",
   "pygments_lexer": "ipython3",
   "version": "3.6.2"
  }
 },
 "nbformat": 4,
 "nbformat_minor": 2
}
