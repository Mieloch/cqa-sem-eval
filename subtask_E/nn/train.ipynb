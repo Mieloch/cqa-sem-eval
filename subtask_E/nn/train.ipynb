{
 "cells": [
  {
   "cell_type": "code",
   "execution_count": null,
   "metadata": {},
   "outputs": [],
   "source": [
    "import pandas as pd\n",
    "import numpy as np\n",
    "\n",
    "from gensim.models import KeyedVectors\n",
    "from keras.callbacks import CSVLogger, ModelCheckpoint\n",
    "\n",
    "from nn_utils import build_embeddings, build_vocabulary, convert_questions, get_max_seq_length, prepare_dataset\n",
    "from malstm import model, f1_score, f2_score"
   ]
  },
  {
   "cell_type": "markdown",
   "metadata": {},
   "source": [
    "# Load data\n",
    "Use extended train dataset (with new generated PerfectMatch'ed pairs), and normal test_df"
   ]
  },
  {
   "cell_type": "code",
   "execution_count": null,
   "metadata": {},
   "outputs": [],
   "source": [
    "DATA_DIR = '/Volumes/DataDrive'"
   ]
  },
  {
   "cell_type": "code",
   "execution_count": null,
   "metadata": {},
   "outputs": [],
   "source": [
    "embeddings_dim = 300"
   ]
  },
  {
   "cell_type": "code",
   "execution_count": null,
   "metadata": {},
   "outputs": [],
   "source": [
    "train_df = pd.read_csv(DATA_DIR + '/merged/en-train-extended.csv')\n",
    "test_df = pd.read_csv(DATA_DIR + '/merged/en-test.csv')"
   ]
  },
  {
   "cell_type": "code",
   "execution_count": null,
   "metadata": {},
   "outputs": [],
   "source": [
    "w2v_model = KeyedVectors.load_word2vec_format(DATA_DIR + '/models/GoogleNews-vectors-negative300.bin', binary=True)\n",
    "\n",
    "# Prepare vocab and embeddings matrix\n",
    "vocabulary = build_vocabulary([train_df, test_df], w2v_model)\n",
    "embeddings = build_embeddings(vocabulary, w2v_model, embeddings_dim)\n",
    "\n",
    "# Remove word2vec model, as we don't need it anymore\n",
    "del w2v_model"
   ]
  },
  {
   "cell_type": "code",
   "execution_count": null,
   "metadata": {},
   "outputs": [],
   "source": [
    "# Convert questions to number representations\n",
    "convert_questions([train_df, test_df], vocabulary)"
   ]
  },
  {
   "cell_type": "code",
   "execution_count": null,
   "metadata": {},
   "outputs": [],
   "source": [
    "# Find max sequence length\n",
    "max_seq_length = get_max_seq_length([train_df, test_df])\n",
    "\n",
    "# Split dataset\n",
    "(X_train, Y_train), (X_validation, Y_validation) = prepare_dataset(\n",
    "    train_df, max_seq_length=max_seq_length, validation_size=3000)\n",
    "\n",
    "print('X_train.shape={}, X_validation.shape={}'.format(X_train['left'].shape, X_validation['left'].shape))"
   ]
  },
  {
   "cell_type": "code",
   "execution_count": null,
   "metadata": {},
   "outputs": [],
   "source": [
    "# Build model\n",
    "malstm = model(embeddings, max_seq_length, n_hidden=50,\n",
    "               embedding_dim=embeddings_dim, metrics=['accuracy', 'mae', f2_score])"
   ]
  },
  {
   "cell_type": "code",
   "execution_count": null,
   "metadata": {},
   "outputs": [],
   "source": [
    "# Setup callbacks\n",
    "csv_logger = CSVLogger(DATA_DIR + '/training/logs/train-1.csv')\n",
    "\n",
    "checkpoint_path = DATA_DIR + '/training/models/model-{epoch: 02d}-{val_loss:.2f}.hdf5'\n",
    "checkpoint = ModelCheckpoint(filepath=checkpoint_path, period=1, save_best_only=True)\n",
    "\n",
    "callbacks = [csv_logger, checkpoint]"
   ]
  },
  {
   "cell_type": "code",
   "execution_count": null,
   "metadata": {},
   "outputs": [],
   "source": [
    "# Training\n",
    "train_input = [X_train['left'], X_train['right']]\n",
    "validation_input = [X_validation['left'], X_validation['right']]\n",
    "\n",
    "trained = malstm.fit(train_input, Y_train, batch_size=64, epochs=1,\n",
    "                     validation_data=(validation_input, Y_validation),\n",
    "                     callbacks=callbacks)"
   ]
  },
  {
   "cell_type": "code",
   "execution_count": null,
   "metadata": {},
   "outputs": [],
   "source": []
  }
 ],
 "metadata": {
  "kernelspec": {
   "display_name": "Python [conda env:eng]",
   "language": "python",
   "name": "conda-env-eng-py"
  },
  "language_info": {
   "codemirror_mode": {
    "name": "ipython",
    "version": 3
   },
   "file_extension": ".py",
   "mimetype": "text/x-python",
   "name": "python",
   "nbconvert_exporter": "python",
   "pygments_lexer": "ipython3",
   "version": "3.6.2"
  }
 },
 "nbformat": 4,
 "nbformat_minor": 2
}
