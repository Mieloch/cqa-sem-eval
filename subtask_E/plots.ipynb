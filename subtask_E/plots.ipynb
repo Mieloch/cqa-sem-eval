{
 "cells": [
  {
   "cell_type": "code",
   "execution_count": 1,
   "metadata": {},
   "outputs": [],
   "source": [
    "import pandas as pd\n",
    "import numpy as np"
   ]
  },
  {
   "cell_type": "markdown",
   "metadata": {},
   "source": [
    "# Loading data"
   ]
  },
  {
   "cell_type": "code",
   "execution_count": 2,
   "metadata": {},
   "outputs": [],
   "source": [
    "# TRAIN_STATS_PATH = '/Volumes/DataDrive/stats/stackexchange_english_train.xml--GoogleNews-vectors-negative300.bin.csv'\n",
    "# DEV_STATS_PATH = '/Volumes/DataDrive/stats/stackexchange_english_devel.xml--GoogleNews-vectors-negative300.bin.csv'\n",
    "\n",
    "TRAIN_STATS_PATH = '/Volumes/DataDrive/stats/en_train_stats.csv'\n",
    "DEV_STATS_PATH = '/Volumes/DataDrive/stats/en_test_stats.csv'"
   ]
  },
  {
   "cell_type": "code",
   "execution_count": 3,
   "metadata": {},
   "outputs": [],
   "source": [
    "train_stats_df = pd.read_csv(TRAIN_STATS_PATH)\n",
    "test_stats_df = pd.read_csv(DEV_STATS_PATH)"
   ]
  },
  {
   "cell_type": "code",
   "execution_count": 4,
   "metadata": {},
   "outputs": [
    {
     "data": {
      "text/html": [
       "<div>\n",
       "<style scoped>\n",
       "    .dataframe tbody tr th:only-of-type {\n",
       "        vertical-align: middle;\n",
       "    }\n",
       "\n",
       "    .dataframe tbody tr th {\n",
       "        vertical-align: top;\n",
       "    }\n",
       "\n",
       "    .dataframe thead th {\n",
       "        text-align: right;\n",
       "    }\n",
       "</style>\n",
       "<table border=\"1\" class=\"dataframe\">\n",
       "  <thead>\n",
       "    <tr style=\"text-align: right;\">\n",
       "      <th></th>\n",
       "      <th>question_id</th>\n",
       "      <th>related_question_id</th>\n",
       "      <th>category</th>\n",
       "      <th>tags</th>\n",
       "      <th>score</th>\n",
       "      <th>view_count</th>\n",
       "      <th>user_id</th>\n",
       "      <th>has_accepted_answer</th>\n",
       "      <th>no_of_comments</th>\n",
       "      <th>no_of_answers</th>\n",
       "      <th>total_answer_upvotes</th>\n",
       "      <th>best_answer_upvotes</th>\n",
       "      <th>jaccard_distance</th>\n",
       "      <th>length_difference</th>\n",
       "      <th>cosine_similarity</th>\n",
       "      <th>bigram_similarity</th>\n",
       "      <th>w2v_cosine_similarity</th>\n",
       "      <th>relevance</th>\n",
       "    </tr>\n",
       "  </thead>\n",
       "  <tbody>\n",
       "    <tr>\n",
       "      <th>0</th>\n",
       "      <td>447409814853</td>\n",
       "      <td>447409814853_R118191900848</td>\n",
       "      <td>english</td>\n",
       "      <td>capitalization</td>\n",
       "      <td>2</td>\n",
       "      <td>77</td>\n",
       "      <td>71802.0</td>\n",
       "      <td>True</td>\n",
       "      <td>0</td>\n",
       "      <td>2</td>\n",
       "      <td>6</td>\n",
       "      <td>4</td>\n",
       "      <td>0.882</td>\n",
       "      <td>714</td>\n",
       "      <td>0.0</td>\n",
       "      <td>0.995</td>\n",
       "      <td>0.728</td>\n",
       "      <td>Irrelevant</td>\n",
       "    </tr>\n",
       "  </tbody>\n",
       "</table>\n",
       "</div>"
      ],
      "text/plain": [
       "    question_id         related_question_id category            tags  score  \\\n",
       "0  447409814853  447409814853_R118191900848  english  capitalization      2   \n",
       "\n",
       "   view_count  user_id  has_accepted_answer  no_of_comments  no_of_answers  \\\n",
       "0          77  71802.0                 True               0              2   \n",
       "\n",
       "   total_answer_upvotes  best_answer_upvotes  jaccard_distance  \\\n",
       "0                     6                    4             0.882   \n",
       "\n",
       "   length_difference  cosine_similarity  bigram_similarity  \\\n",
       "0                714                0.0              0.995   \n",
       "\n",
       "   w2v_cosine_similarity   relevance  \n",
       "0                  0.728  Irrelevant  "
      ]
     },
     "execution_count": 4,
     "metadata": {},
     "output_type": "execute_result"
    }
   ],
   "source": [
    "train_stats_df.head(n=1)"
   ]
  },
  {
   "cell_type": "code",
   "execution_count": 5,
   "metadata": {},
   "outputs": [
    {
     "data": {
      "text/html": [
       "<div>\n",
       "<style scoped>\n",
       "    .dataframe tbody tr th:only-of-type {\n",
       "        vertical-align: middle;\n",
       "    }\n",
       "\n",
       "    .dataframe tbody tr th {\n",
       "        vertical-align: top;\n",
       "    }\n",
       "\n",
       "    .dataframe thead th {\n",
       "        text-align: right;\n",
       "    }\n",
       "</style>\n",
       "<table border=\"1\" class=\"dataframe\">\n",
       "  <thead>\n",
       "    <tr style=\"text-align: right;\">\n",
       "      <th></th>\n",
       "      <th>question_id</th>\n",
       "      <th>related_question_id</th>\n",
       "      <th>category</th>\n",
       "      <th>tags</th>\n",
       "      <th>score</th>\n",
       "      <th>view_count</th>\n",
       "      <th>user_id</th>\n",
       "      <th>has_accepted_answer</th>\n",
       "      <th>no_of_comments</th>\n",
       "      <th>no_of_answers</th>\n",
       "      <th>total_answer_upvotes</th>\n",
       "      <th>best_answer_upvotes</th>\n",
       "      <th>jaccard_distance</th>\n",
       "      <th>length_difference</th>\n",
       "      <th>cosine_similarity</th>\n",
       "      <th>bigram_similarity</th>\n",
       "      <th>w2v_cosine_similarity</th>\n",
       "      <th>relevance</th>\n",
       "    </tr>\n",
       "  </thead>\n",
       "  <tbody>\n",
       "    <tr>\n",
       "      <th>0</th>\n",
       "      <td>903935046121</td>\n",
       "      <td>903935046121_R166737334871</td>\n",
       "      <td>english</td>\n",
       "      <td>prepositions</td>\n",
       "      <td>0</td>\n",
       "      <td>142</td>\n",
       "      <td>30415.0</td>\n",
       "      <td>True</td>\n",
       "      <td>1</td>\n",
       "      <td>2</td>\n",
       "      <td>3</td>\n",
       "      <td>2</td>\n",
       "      <td>0.961</td>\n",
       "      <td>287</td>\n",
       "      <td>0.0</td>\n",
       "      <td>1.0</td>\n",
       "      <td>0.769</td>\n",
       "      <td>Irrelevant</td>\n",
       "    </tr>\n",
       "  </tbody>\n",
       "</table>\n",
       "</div>"
      ],
      "text/plain": [
       "    question_id         related_question_id category          tags  score  \\\n",
       "0  903935046121  903935046121_R166737334871  english  prepositions      0   \n",
       "\n",
       "   view_count  user_id  has_accepted_answer  no_of_comments  no_of_answers  \\\n",
       "0         142  30415.0                 True               1              2   \n",
       "\n",
       "   total_answer_upvotes  best_answer_upvotes  jaccard_distance  \\\n",
       "0                     3                    2             0.961   \n",
       "\n",
       "   length_difference  cosine_similarity  bigram_similarity  \\\n",
       "0                287                0.0                1.0   \n",
       "\n",
       "   w2v_cosine_similarity   relevance  \n",
       "0                  0.769  Irrelevant  "
      ]
     },
     "execution_count": 5,
     "metadata": {},
     "output_type": "execute_result"
    }
   ],
   "source": [
    "test_stats_df.head(n=1)"
   ]
  },
  {
   "cell_type": "code",
   "execution_count": 6,
   "metadata": {},
   "outputs": [
    {
     "name": "stdout",
     "output_type": "stream",
     "text": [
      "Train\n",
      "PerfectMatch size=485\n",
      "Related size=7454\n",
      "Irrelevant size=1027126\n",
      "\n",
      "Test\n",
      "PerfectMatch size=159\n",
      "Related size=2398\n",
      "Irrelevant size=327243\n",
      "\n"
     ]
    }
   ],
   "source": [
    "def get_stats_dict(stats_df):\n",
    "    return {\n",
    "        'PerfectMatch': stats_df[stats_df.relevance == 'PerfectMatch'],\n",
    "        'Related': stats_df[stats_df.relevance == 'Related'],\n",
    "        'Irrelevant': stats_df[stats_df.relevance == 'Irrelevant']\n",
    "    }\n",
    "\n",
    "def stats_info(stats_dict, name='Stats'):\n",
    "    print('{}'.format(name))\n",
    "    \n",
    "    for relevance, data in stats_dict.items():\n",
    "        print('{} size={}'.format(relevance, len(data)))\n",
    "    \n",
    "    print()\n",
    "\n",
    "train_stats = get_stats_dict(train_stats_df)\n",
    "test_stats = get_stats_dict(test_stats_df)\n",
    "\n",
    "stats_info(train_stats, name='Train')\n",
    "stats_info(test_stats, name='Test')"
   ]
  },
  {
   "cell_type": "code",
   "execution_count": 7,
   "metadata": {},
   "outputs": [
    {
     "name": "stdout",
     "output_type": "stream",
     "text": [
      "Stats\n",
      "PerfectMatch size=644\n",
      "Related size=9852\n",
      "Irrelevant size=1354369\n",
      "\n"
     ]
    }
   ],
   "source": [
    "stats_df = pd.concat([train_stats_df, test_stats_df])\n",
    "stats = get_stats_dict(stats_df)\n",
    "stats_info(stats, name=\"Stats\")"
   ]
  },
  {
   "cell_type": "markdown",
   "metadata": {},
   "source": [
    "# Plotting"
   ]
  },
  {
   "cell_type": "code",
   "execution_count": 8,
   "metadata": {},
   "outputs": [],
   "source": [
    "%matplotlib inline"
   ]
  },
  {
   "cell_type": "code",
   "execution_count": 9,
   "metadata": {},
   "outputs": [
    {
     "data": {
      "text/plain": [
       "count    644.000000\n",
       "mean      21.371118\n",
       "std       26.634275\n",
       "min        0.000000\n",
       "25%        6.000000\n",
       "50%       12.000000\n",
       "75%       27.000000\n",
       "max      165.000000\n",
       "Name: best_answer_upvotes, dtype: float64"
      ]
     },
     "execution_count": 9,
     "metadata": {},
     "output_type": "execute_result"
    }
   ],
   "source": [
    "stats['PerfectMatch']['best_answer_upvotes'].describe()"
   ]
  },
  {
   "cell_type": "code",
   "execution_count": 10,
   "metadata": {},
   "outputs": [
    {
     "data": {
      "text/plain": [
       "count    9852.000000\n",
       "mean       18.555725\n",
       "std        25.558352\n",
       "min        -1.000000\n",
       "25%         5.000000\n",
       "50%        10.000000\n",
       "75%        21.000000\n",
       "max       369.000000\n",
       "Name: best_answer_upvotes, dtype: float64"
      ]
     },
     "execution_count": 10,
     "metadata": {},
     "output_type": "execute_result"
    }
   ],
   "source": [
    "stats['Related']['best_answer_upvotes'].describe()"
   ]
  },
  {
   "cell_type": "code",
   "execution_count": 11,
   "metadata": {},
   "outputs": [
    {
     "data": {
      "text/plain": [
       "count    1.354369e+06\n",
       "mean     1.669668e+01\n",
       "std      2.584107e+01\n",
       "min     -2.000000e+00\n",
       "25%      3.000000e+00\n",
       "50%      7.000000e+00\n",
       "75%      1.700000e+01\n",
       "max      3.690000e+02\n",
       "Name: best_answer_upvotes, dtype: float64"
      ]
     },
     "execution_count": 11,
     "metadata": {},
     "output_type": "execute_result"
    }
   ],
   "source": [
    "stats['Irrelevant']['best_answer_upvotes'].describe()"
   ]
  },
  {
   "cell_type": "code",
   "execution_count": 12,
   "metadata": {},
   "outputs": [
    {
     "data": {
      "text/plain": [
       "array([ 3,  1,  5,  0,  2,  4, 16, 11, 17,  9,  6,  7, 14, 19, 12, 24,  8,\n",
       "       10, 18, 37, 15, 13, 20])"
      ]
     },
     "execution_count": 12,
     "metadata": {},
     "output_type": "execute_result"
    }
   ],
   "source": [
    "stats['PerfectMatch']['no_of_comments'].unique()"
   ]
  },
  {
   "cell_type": "code",
   "execution_count": null,
   "metadata": {},
   "outputs": [],
   "source": []
  }
 ],
 "metadata": {
  "kernelspec": {
   "display_name": "Python [conda env:eng]",
   "language": "python",
   "name": "conda-env-eng-py"
  },
  "language_info": {
   "codemirror_mode": {
    "name": "ipython",
    "version": 3
   },
   "file_extension": ".py",
   "mimetype": "text/x-python",
   "name": "python",
   "nbconvert_exporter": "python",
   "pygments_lexer": "ipython3",
   "version": "3.6.2"
  }
 },
 "nbformat": 4,
 "nbformat_minor": 2
}
