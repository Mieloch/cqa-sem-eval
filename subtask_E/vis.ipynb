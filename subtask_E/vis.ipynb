{
 "cells": [
  {
   "cell_type": "markdown",
   "metadata": {},
   "source": [
    "# Data"
   ]
  },
  {
   "cell_type": "code",
   "execution_count": null,
   "metadata": {
    "scrolled": false
   },
   "outputs": [],
   "source": [
    "import pandas as pd\n",
    "\n",
    "# df_path = './Duplicate_Question_stats.csv'\n",
    "df_path = '/Volumes/DataDrive/stats/stackexchange_english_devel.xml--stackexchange_english_devel.xml--it50-mc5-s100.mdl.csv'\n",
    "df = pd.read_csv(df_path)\n",
    "df.head(n=5)"
   ]
  },
  {
   "cell_type": "markdown",
   "metadata": {},
   "source": [
    "# Plots"
   ]
  },
  {
   "cell_type": "code",
   "execution_count": null,
   "metadata": {
    "scrolled": false
   },
   "outputs": [],
   "source": [
    "%matplotlib inline\n",
    "import matplotlib.pyplot as plt\n",
    "\n",
    "def create_plot(file_path):\n",
    "    # Read file from CSV stats file\n",
    "    df = pd.read_csv(file_path)\n",
    "    \n",
    "    # Load data for different \n",
    "    irrelevant = df[df.relevance == 'Irrelevant']\n",
    "    related = df[df.relevance == 'Related']\n",
    "    perfect_match = df[df.relevance == 'PerfectMatch']\n",
    "    assert(irrelevant.shape[0] + related.shape[0] + perfect_match.shape[0] == df.shape[0])\n",
    "    \n",
    "    labels = [\"Irrelevant\", \"Related\", \"Perfect Match\"]\n",
    "    parameters = [\"score\", \"no_of_answers\", \"best_answer_upvotes\"]\n",
    "\n",
    "    fig, ax_list = plt.subplots(len(parameters), figsize=(16, 40))\n",
    "\n",
    "    for i, param in enumerate(parameters):\n",
    "        plot_data = [irrelevant[param], related[param], perfect_match[param]]\n",
    "        ax_list[i].set_title(param)\n",
    "        ax_list[i].boxplot(plot_data)\n",
    "        ax_list[i].set_xticklabels(labels)\n",
    "\n",
    "    plt.show()"
   ]
  },
  {
   "cell_type": "markdown",
   "metadata": {
    "collapsed": true,
    "scrolled": true
   },
   "source": [
    "# Dataset"
   ]
  },
  {
   "cell_type": "code",
   "execution_count": 1,
   "metadata": {},
   "outputs": [],
   "source": [
    "import pandas as pd"
   ]
  },
  {
   "cell_type": "code",
   "execution_count": 16,
   "metadata": {},
   "outputs": [],
   "source": [
    "df = pd.read_csv('/Volumes/DataDrive/merged/en-test-extended.csv')"
   ]
  },
  {
   "cell_type": "code",
   "execution_count": 17,
   "metadata": {},
   "outputs": [],
   "source": [
    "perfect_match = df[df.relevance == 'PerfectMatch']\n",
    "rest = df[df.relevance != 'PerfectMatch']"
   ]
  },
  {
   "cell_type": "code",
   "execution_count": 18,
   "metadata": {},
   "outputs": [],
   "source": [
    "import matplotlib.pyplot as plt\n",
    "\n",
    "%matplotlib inline"
   ]
  },
  {
   "cell_type": "code",
   "execution_count": 19,
   "metadata": {},
   "outputs": [
    {
     "data": {
      "text/plain": [
       "(2550, 18)"
      ]
     },
     "execution_count": 19,
     "metadata": {},
     "output_type": "execute_result"
    }
   ],
   "source": [
    "perfect_match.shape"
   ]
  },
  {
   "cell_type": "code",
   "execution_count": 20,
   "metadata": {},
   "outputs": [
    {
     "data": {
      "text/plain": [
       "(10048, 18)"
      ]
     },
     "execution_count": 20,
     "metadata": {},
     "output_type": "execute_result"
    }
   ],
   "source": [
    "rest.shape"
   ]
  },
  {
   "cell_type": "code",
   "execution_count": 21,
   "metadata": {},
   "outputs": [
    {
     "data": {
      "image/png": "[encoded data removed]",
      "text/plain": [
       "<matplotlib.figure.Figure at 0x1110f5908>"
      ]
     },
     "metadata": {},
     "output_type": "display_data"
    }
   ],
   "source": [
    "labels = ('Duplicate', 'Non duplicate')\n",
    "sizes = [len(perfect_match), len(rest)]\n",
    "\n",
    "fix, ax = plt.subplots()\n",
    "ax.pie(sizes, labels=labels, autopct='%1.1f%%', startangle=90)\n",
    "ax.axis('equal')\n",
    "\n",
    "plt.savefig('/Users/tomek/Desktop/data-distribution-test.png')\n",
    "plt.show()"
   ]
  },
  {
   "cell_type": "code",
   "execution_count": 22,
   "metadata": {},
   "outputs": [
    {
     "data": {
      "text/plain": [
       "{'boxes': [<matplotlib.lines.Line2D at 0x111c6e4a8>,\n",
       "  <matplotlib.lines.Line2D at 0x111c95b70>],\n",
       " 'caps': [<matplotlib.lines.Line2D at 0x111c6eeb8>,\n",
       "  <matplotlib.lines.Line2D at 0x111c95320>,\n",
       "  <matplotlib.lines.Line2D at 0x111cb8828>,\n",
       "  <matplotlib.lines.Line2D at 0x111cb8c50>],\n",
       " 'fliers': [],\n",
       " 'means': [],\n",
       " 'medians': [<matplotlib.lines.Line2D at 0x111c95748>,\n",
       "  <matplotlib.lines.Line2D at 0x111ce10b8>],\n",
       " 'whiskers': [<matplotlib.lines.Line2D at 0x111c6e5f8>,\n",
       "  <matplotlib.lines.Line2D at 0x111c6ea90>,\n",
       "  <matplotlib.lines.Line2D at 0x111c95f98>,\n",
       "  <matplotlib.lines.Line2D at 0x111cb8400>]}"
      ]
     },
     "execution_count": 22,
     "metadata": {},
     "output_type": "execute_result"
    },
    {
     "data": {
      "image/png": "[encoded data removed]",
      "text/plain": [
       "<matplotlib.figure.Figure at 0x111d4b630>"
      ]
     },
     "metadata": {},
     "output_type": "display_data"
    }
   ],
   "source": [
    "plt.boxplot([rest.score.values, perfect_match.score.values], showfliers=False)"
   ]
  },
  {
   "cell_type": "code",
   "execution_count": null,
   "metadata": {},
   "outputs": [],
   "source": []
  }
 ],
 "metadata": {
  "kernelspec": {
   "display_name": "Python [default]",
   "language": "python",
   "name": "python3"
  },
  "language_info": {
   "codemirror_mode": {
    "name": "ipython",
    "version": 3
   },
   "file_extension": ".py",
   "mimetype": "text/x-python",
   "name": "python",
   "nbconvert_exporter": "python",
   "pygments_lexer": "ipython3",
   "version": "3.6.2"
  }
 },
 "nbformat": 4,
 "nbformat_minor": 2
}
